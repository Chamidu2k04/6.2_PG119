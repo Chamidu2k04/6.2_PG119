{
  "nbformat": 4,
  "nbformat_minor": 0,
  "metadata": {
    "colab": {
      "provenance": []
    },
    "kernelspec": {
      "name": "python3",
      "display_name": "Python 3"
    },
    "language_info": {
      "name": "python"
    }
  },
  "cells": [
    {
      "cell_type": "code",
      "execution_count": 12,
      "metadata": {
        "id": "3gkDumh9zYPG"
      },
      "outputs": [],
      "source": [
        "# IT_MEMBER2: Encoding Categorical Variables\n",
        "# Technique: LabelEncoder for Target, OneHotEncoder for Gender/Marital status\n",
        "# Justification: Categorical features like 'Gender' and 'Target' need encoding for ML; this prevents ordinal misinterpretation and enables accurate dropout classification.\n",
        "\n",
        "import pandas as pd\n",
        "import numpy as np\n",
        "from sklearn.preprocessing import LabelEncoder, OneHotEncoder\n",
        "import matplotlib.pyplot as plt\n",
        "import seaborn as sns\n",
        "from google.colab import drive\n",
        "import os"
      ]
    },
    {
      "cell_type": "code",
      "source": [
        "# Mount Google Drive\n",
        "drive.mount('/content/drive')"
      ],
      "metadata": {
        "colab": {
          "base_uri": "https://localhost:8080/"
        },
        "id": "tpwxzItx7ALF",
        "outputId": "7a331f2f-bdf8-4e46-8173-9c64d23d0646"
      },
      "execution_count": 13,
      "outputs": [
        {
          "output_type": "stream",
          "name": "stdout",
          "text": [
            "Drive already mounted at /content/drive; to attempt to forcibly remount, call drive.mount(\"/content/drive\", force_remount=True).\n"
          ]
        }
      ]
    },
    {
      "cell_type": "code",
      "source": [
        "# Define paths and create directories\n",
        "data_path = '/content/drive/MyDrive/rawDataset.csv'\n",
        "results_path = '/content/drive/MyDrive/results/'\n",
        "eda_vis_path = results_path + 'eda_visualizations/'\n",
        "os.makedirs(eda_vis_path, exist_ok=True)"
      ],
      "metadata": {
        "id": "omZ-oNcV8u1R"
      },
      "execution_count": 14,
      "outputs": []
    },
    {
      "cell_type": "code",
      "source": [
        "# Load dataset\n",
        "columns = ['Marital status', 'Application mode', 'Application order', 'Course', 'Daytime/evening attendance',\n",
        "           'Previous qualification', 'Previous qualification (grade)', 'Nacionality', \"Mother's qualification\",\n",
        "           \"Father's qualification\", \"Mother's occupation\", \"Father's occupation\", 'Admission grade', 'Displaced',\n",
        "           'Educational special needs', 'Debtor', 'Tuition fees up to date', 'Gender', 'Scholarship holder',\n",
        "           'Age at enrollment', 'International', 'Curricular units 1st sem (credited)',\n",
        "           'Curricular units 1st sem (enrolled)', 'Curricular units 1st sem (evaluations)',\n",
        "           'Curricular units 1st sem (approved)', 'Curricular units 1st sem (grade)',\n",
        "           'Curricular units 1st sem (without evaluations)', 'Curricular units 2nd sem (credited)',\n",
        "           'Curricular units 2nd sem (enrolled)', 'Curricular units 2nd sem (evaluations)',\n",
        "           'Curricular units 2nd sem (approved)', 'Curricular units 2nd sem (grade)',\n",
        "           'Curricular units 2nd sem (without evaluations)', 'Unemployment rate', 'Inflation rate', 'GDP', 'Target']\n",
        "df = pd.read_csv(data_path, sep=';', names=columns, header=0)"
      ],
      "metadata": {
        "id": "eu-tNxyW81M1"
      },
      "execution_count": 15,
      "outputs": []
    },
    {
      "cell_type": "code",
      "source": [
        "# Encoding\n",
        "le = LabelEncoder()\n",
        "df['Target_encoded'] = le.fit_transform(df['Target'])\n",
        "print(\"Target Encoding:\", dict(zip(le.classes_, le.transform(le.classes_))))\n",
        "\n",
        "ohe = OneHotEncoder(sparse_output=False, drop='first')  # Avoid dummy trap\n",
        "ohe_cols = ['Gender', 'Marital status']\n",
        "ohe_encoded = pd.DataFrame(ohe.fit_transform(df[ohe_cols]), columns=ohe.get_feature_names_out(ohe_cols))\n",
        "df = pd.concat([df.drop(ohe_cols, axis=1), ohe_encoded], axis=1)\n",
        "\n",
        "print(\"Sample after Encoding:\\n\", df[['Target', 'Target_encoded'] + list(ohe_encoded.columns)].head())"
      ],
      "metadata": {
        "colab": {
          "base_uri": "https://localhost:8080/"
        },
        "id": "lImI7f_M9i8V",
        "outputId": "5855e9a4-c384-420a-9e13-43338e54aec6"
      },
      "execution_count": 16,
      "outputs": [
        {
          "output_type": "stream",
          "name": "stdout",
          "text": [
            "Target Encoding: {'Dropout': np.int64(0), 'Enrolled': np.int64(1), 'Graduate': np.int64(2)}\n",
            "Sample after Encoding:\n",
            "      Target  Target_encoded  Gender_1  Marital status_2  Marital status_3  \\\n",
            "0   Dropout               0       1.0               0.0               0.0   \n",
            "1  Graduate               2       1.0               0.0               0.0   \n",
            "2   Dropout               0       1.0               0.0               0.0   \n",
            "3  Graduate               2       0.0               0.0               0.0   \n",
            "4  Graduate               2       0.0               1.0               0.0   \n",
            "\n",
            "   Marital status_4  Marital status_5  Marital status_6  \n",
            "0               0.0               0.0               0.0  \n",
            "1               0.0               0.0               0.0  \n",
            "2               0.0               0.0               0.0  \n",
            "3               0.0               0.0               0.0  \n",
            "4               0.0               0.0               0.0  \n"
          ]
        }
      ]
    },
    {
      "cell_type": "code",
      "source": [
        "# EDA Visualization: Countplot\n",
        "plt.figure(figsize=(8, 6))\n",
        "sns.countplot(x='Target_encoded', data=df)\n",
        "plt.title(\"Target Class Distribution\")\n",
        "plt.savefig(eda_vis_path + 'member2_target_countplot.png')\n",
        "plt.show()"
      ],
      "metadata": {
        "colab": {
          "base_uri": "https://localhost:8080/",
          "height": 564
        },
        "id": "iuOardSo9zBw",
        "outputId": "c4a14b32-de69-4029-aa1a-2f0cdcd0bdd2"
      },
      "execution_count": 17,
      "outputs": [
        {
          "output_type": "display_data",
          "data": {
            "text/plain": [
              "<Figure size 800x600 with 1 Axes>"
            ],
            "image/png": "[encoded data removed]"
          },
          "metadata": {}
        }
      ]
    },
    {
      "cell_type": "markdown",
      "source": [
        "Interpretation - From the countplot we can see that the categories are uneven. For example, the number of graduates is much higher than the number of dropouts. Because of this imbalance, the model might focus more on the larger group and ignore the smaller one. To fix this, we may later use methods like oversampling so the model can learn about dropouts more effectively."
      ],
      "metadata": {
        "id": "5PLCrTFJCVnH"
      }
    }
  ]
}